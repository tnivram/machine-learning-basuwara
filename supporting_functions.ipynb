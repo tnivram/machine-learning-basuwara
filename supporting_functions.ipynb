{
  "nbformat": 4,
  "nbformat_minor": 0,
  "metadata": {
    "colab": {
      "provenance": []
    },
    "kernelspec": {
      "name": "python3",
      "display_name": "Python 3"
    },
    "language_info": {
      "name": "python"
    }
  },
  "cells": [
    {
      "cell_type": "markdown",
      "source": [
        "# **Supporting Functions**"
      ],
      "metadata": {
        "id": "AxXR3Hn7uc5b"
      }
    },
    {
      "cell_type": "code",
      "execution_count": null,
      "metadata": {
        "id": "KvQl5EdhuXZJ"
      },
      "outputs": [],
      "source": [
        "import os\n",
        "import random\n",
        "%matplotlib inline\n",
        "import matplotlib.pyplot as plt\n",
        "import matplotlib.image as mpimg\n",
        "import numpy as np\n",
        "plt.style.use('seaborn-v0_8')\n",
        "\n",
        "from tensorflow.keras.models import load_model\n",
        "import tensorflow as tf\n",
        "from imutils.contours import sort_contours\n",
        "import numpy as np\n",
        "import argparse\n",
        "import imutils\n",
        "import cv2"
      ]
    },
    {
      "cell_type": "markdown",
      "source": [
        "Functions to detect characters in a RGB photo"
      ],
      "metadata": {
        "id": "NEMlRXEp2hUY"
      }
    },
    {
      "cell_type": "code",
      "source": [
        "def img_modifier(im):\n",
        "  im = cv2.cvtColor(im, cv2.COLOR_BGR2GRAY)\n",
        "  im = cv2.GaussianBlur(im, (3,3), 0)\n",
        "  im = cv2.threshold(im, 220, 255, cv2.THRESH_BINARY)[1]\n",
        "  im = cv2.Canny(im, 150, 255, 1)\n",
        "  kernel = cv2.getStructuringElement(cv2.MORPH_RECT, (5,5))\n",
        "  im = cv2.dilate(im, kernel, iterations=5)\n",
        "  return im\n",
        "\n",
        "def get_bounding(im_src, im, min_area=5000):\n",
        "  img_obtained = []   # array to store all the bounded images\n",
        "  cnts = cv2.findContours(im, cv2.RETR_EXTERNAL, cv2.CHAIN_APPROX_SIMPLE)\n",
        "  cnts = cnts[0] if len(cnts) == 2 else cnts[1]\n",
        "  cnts = list(cnts)\n",
        "  cnts.sort(key=lambda x:cv2.boundingRect(x)[0])  # sort from the leftmost x coordinate\n",
        "\n",
        "  for c in cnts:\n",
        "    area = cv2.contourArea(c)\n",
        "    if area > min_area:\n",
        "        x,y,w,h = cv2.boundingRect(c)\n",
        "        bound = cv2.rectangle(IMG_KA, (x, y), (x + w, y + h), (36,255,12), 2)\n",
        "        img_part = im_src[y:y+h, x:x+w]\n",
        "        img_obtained.append(img_part)\n",
        "\n",
        "  return img_obtained"
      ],
      "metadata": {
        "id": "9Bz4D0_X2gwg"
      },
      "execution_count": null,
      "outputs": []
    },
    {
      "cell_type": "markdown",
      "source": [
        "Functions to make predictions"
      ],
      "metadata": {
        "id": "WfssTNtR163W"
      }
    },
    {
      "cell_type": "code",
      "source": [
        "# buat di api class nya dibikin satu script sendiri\n",
        "classes = ['sunda_a', 'sunda_ae','sunda_ba','sunda_ca','sunda_da','sunda_e','sunda_eu', 'sunda_fa', 'sunda_ga', 'sunda_ha', 'sunda_i', 'sunda_ja',\n",
        "  'sunda_ka', 'sunda_la', 'sunda_ma', 'sunda_na', 'sunda_nga', 'sunda_nya', 'sunda_o', 'sunda_pa', 'sunda_qa', 'sunda_ra', 'sunda_sa', 'sunda_ta',\n",
        "  'sunda_u', 'sunda_va', 'sunda_wa', 'sunda_xa', 'sunda_ya', 'sunda_za']\n",
        "\n",
        "def get_char(pred_arr):\n",
        "  predicted_char = classes[np.argmax(pred_arr)]\n",
        "  predicted_char = predicted_char.split('_')\n",
        "  predicted_char = predicted_char[1]\n",
        "\n",
        "  return predicted_char\n",
        "\n",
        "def predict_single_image(im):\n",
        "  im = tf.image.resize(im,(150,150))\n",
        "  im = np.expand_dims(im,axis=0)\n",
        "  pred = model.predict(im)\n",
        "  predicted_char = get_char(pred)\n",
        "  return predicted_char\n",
        "\n",
        "def prediction_img(im):\n",
        "  img_modified = img_modifier(im)\n",
        "  bounded = get_bounding(im, img_modified)\n",
        "  pred_text = []\n",
        "  for images in bounded:\n",
        "    char = predict_single_image(images)\n",
        "    pred_text.append(char)\n",
        "\n",
        "  predicted = ''.join(pred_text)\n",
        "\n",
        "  return predicted"
      ],
      "metadata": {
        "id": "imKp3VzK16Pi"
      },
      "execution_count": null,
      "outputs": []
    }
  ]
}